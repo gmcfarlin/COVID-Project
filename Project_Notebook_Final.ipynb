{
 "cells": [
  {
   "cell_type": "markdown",
   "metadata": {
    "colab_type": "text",
    "id": "sHE1LMKsDNp6"
   },
   "source": [
    "# Covid-19 Prediction Project"
   ]
  },
  {
   "cell_type": "markdown",
   "metadata": {
    "colab_type": "text",
    "id": "R4z5TAwuDNp7"
   },
   "source": [
    "### Objective:\n",
    "We are seeking to use the global data on the COVID-19 pandemic in order to predict the number of cases as a fuction of time in each country and for the world. We will be using data science tools and python to come up with our predictions and analysis.\n",
    "### Purpose:\n",
    "We believe that this could type of prediction could be useful for a variety of different parties. Economists, policy makers, producers of essential goods, and even local business owners could stand to benefit from more accurate information regarding the pandemic.\n",
    "\n",
    "We also believe that the team will be able to develop our data science, python, and communication skills through this project. "
   ]
  },
  {
   "cell_type": "markdown",
   "metadata": {
    "colab_type": "text",
    "id": "IDIghyuODNp8"
   },
   "source": [
    "## Project outline\n",
    "1. Import packages and data\n",
    "2. Visualize and process the data\n",
    "3. Build, score, and compare different predictive models\n",
    "4. Analyze results\n",
    "5. Conclusions and recommendations"
   ]
  },
  {
   "cell_type": "markdown",
   "metadata": {
    "colab_type": "text",
    "id": "xh8QEKqkDNp9"
   },
   "source": [
    "## Import neccessary packages"
   ]
  },
  {
   "cell_type": "code",
   "execution_count": 2,
   "metadata": {
    "colab": {},
    "colab_type": "code",
    "id": "-Js7Mq8Gbw_d"
   },
   "outputs": [],
   "source": [
    "import pandas as pd\n",
    "import numpy as np \n",
    "import matplotlib.pyplot as plt \n",
    "import matplotlib.colors as mcolors\n",
    "from sklearn.svm import SVR\n",
    "from sklearn.metrics import mean_squared_error,r2_score\n",
    "import warnings\n",
    "warnings.simplefilter(\"ignore\")\n",
    "import datetime\n",
    "from sklearn.metrics import mean_absolute_error"
   ]
  },
  {
   "cell_type": "markdown",
   "metadata": {
    "colab_type": "text",
    "id": "X-ZJMJlLDNqe"
   },
   "source": [
    "## Import and process data"
   ]
  },
  {
   "cell_type": "code",
   "execution_count": 3,
   "metadata": {
    "colab": {
     "base_uri": "https://localhost:8080/",
     "height": 396
    },
    "colab_type": "code",
    "executionInfo": {
     "elapsed": 1258,
     "status": "error",
     "timestamp": 1588702686638,
     "user": {
      "displayName": "Christina L Fu",
      "photoUrl": "",
      "userId": "18168526064056185304"
     },
     "user_tz": 300
    },
    "id": "cbK3eoYkbw_p",
    "outputId": "5f97d9b7-3c3d-44c2-d45a-e7f040acd607"
   },
   "outputs": [
    {
     "data": {
      "text/html": [
       "<div>\n",
       "<style scoped>\n",
       "    .dataframe tbody tr th:only-of-type {\n",
       "        vertical-align: middle;\n",
       "    }\n",
       "\n",
       "    .dataframe tbody tr th {\n",
       "        vertical-align: top;\n",
       "    }\n",
       "\n",
       "    .dataframe thead th {\n",
       "        text-align: right;\n",
       "    }\n",
       "</style>\n",
       "<table border=\"1\" class=\"dataframe\">\n",
       "  <thead>\n",
       "    <tr style=\"text-align: right;\">\n",
       "      <th></th>\n",
       "      <th>Province/State</th>\n",
       "      <th>Country/Region</th>\n",
       "      <th>Lat</th>\n",
       "      <th>Long</th>\n",
       "      <th>1/22/20</th>\n",
       "      <th>1/23/20</th>\n",
       "      <th>1/24/20</th>\n",
       "      <th>1/25/20</th>\n",
       "      <th>1/26/20</th>\n",
       "      <th>1/27/20</th>\n",
       "      <th>...</th>\n",
       "      <th>4/24/20</th>\n",
       "      <th>4/25/20</th>\n",
       "      <th>4/26/20</th>\n",
       "      <th>4/27/20</th>\n",
       "      <th>4/28/20</th>\n",
       "      <th>4/29/20</th>\n",
       "      <th>4/30/20</th>\n",
       "      <th>5/1/20</th>\n",
       "      <th>5/2/20</th>\n",
       "      <th>5/3/20</th>\n",
       "    </tr>\n",
       "  </thead>\n",
       "  <tbody>\n",
       "    <tr>\n",
       "      <th>0</th>\n",
       "      <td>NaN</td>\n",
       "      <td>Afghanistan</td>\n",
       "      <td>33.0000</td>\n",
       "      <td>65.0000</td>\n",
       "      <td>0</td>\n",
       "      <td>0</td>\n",
       "      <td>0</td>\n",
       "      <td>0</td>\n",
       "      <td>0</td>\n",
       "      <td>0</td>\n",
       "      <td>...</td>\n",
       "      <td>1351</td>\n",
       "      <td>1463</td>\n",
       "      <td>1531</td>\n",
       "      <td>1703</td>\n",
       "      <td>1828</td>\n",
       "      <td>1939</td>\n",
       "      <td>2171</td>\n",
       "      <td>2335</td>\n",
       "      <td>2469</td>\n",
       "      <td>2704</td>\n",
       "    </tr>\n",
       "    <tr>\n",
       "      <th>1</th>\n",
       "      <td>NaN</td>\n",
       "      <td>Albania</td>\n",
       "      <td>41.1533</td>\n",
       "      <td>20.1683</td>\n",
       "      <td>0</td>\n",
       "      <td>0</td>\n",
       "      <td>0</td>\n",
       "      <td>0</td>\n",
       "      <td>0</td>\n",
       "      <td>0</td>\n",
       "      <td>...</td>\n",
       "      <td>678</td>\n",
       "      <td>712</td>\n",
       "      <td>726</td>\n",
       "      <td>736</td>\n",
       "      <td>750</td>\n",
       "      <td>766</td>\n",
       "      <td>773</td>\n",
       "      <td>782</td>\n",
       "      <td>789</td>\n",
       "      <td>795</td>\n",
       "    </tr>\n",
       "    <tr>\n",
       "      <th>2</th>\n",
       "      <td>NaN</td>\n",
       "      <td>Algeria</td>\n",
       "      <td>28.0339</td>\n",
       "      <td>1.6596</td>\n",
       "      <td>0</td>\n",
       "      <td>0</td>\n",
       "      <td>0</td>\n",
       "      <td>0</td>\n",
       "      <td>0</td>\n",
       "      <td>0</td>\n",
       "      <td>...</td>\n",
       "      <td>3127</td>\n",
       "      <td>3256</td>\n",
       "      <td>3382</td>\n",
       "      <td>3517</td>\n",
       "      <td>3649</td>\n",
       "      <td>3848</td>\n",
       "      <td>4006</td>\n",
       "      <td>4154</td>\n",
       "      <td>4295</td>\n",
       "      <td>4474</td>\n",
       "    </tr>\n",
       "    <tr>\n",
       "      <th>3</th>\n",
       "      <td>NaN</td>\n",
       "      <td>Andorra</td>\n",
       "      <td>42.5063</td>\n",
       "      <td>1.5218</td>\n",
       "      <td>0</td>\n",
       "      <td>0</td>\n",
       "      <td>0</td>\n",
       "      <td>0</td>\n",
       "      <td>0</td>\n",
       "      <td>0</td>\n",
       "      <td>...</td>\n",
       "      <td>731</td>\n",
       "      <td>738</td>\n",
       "      <td>738</td>\n",
       "      <td>743</td>\n",
       "      <td>743</td>\n",
       "      <td>743</td>\n",
       "      <td>745</td>\n",
       "      <td>745</td>\n",
       "      <td>747</td>\n",
       "      <td>748</td>\n",
       "    </tr>\n",
       "    <tr>\n",
       "      <th>4</th>\n",
       "      <td>NaN</td>\n",
       "      <td>Angola</td>\n",
       "      <td>-11.2027</td>\n",
       "      <td>17.8739</td>\n",
       "      <td>0</td>\n",
       "      <td>0</td>\n",
       "      <td>0</td>\n",
       "      <td>0</td>\n",
       "      <td>0</td>\n",
       "      <td>0</td>\n",
       "      <td>...</td>\n",
       "      <td>25</td>\n",
       "      <td>25</td>\n",
       "      <td>26</td>\n",
       "      <td>27</td>\n",
       "      <td>27</td>\n",
       "      <td>27</td>\n",
       "      <td>27</td>\n",
       "      <td>30</td>\n",
       "      <td>35</td>\n",
       "      <td>35</td>\n",
       "    </tr>\n",
       "  </tbody>\n",
       "</table>\n",
       "<p>5 rows × 107 columns</p>\n",
       "</div>"
      ],
      "text/plain": [
       "  Province/State Country/Region      Lat     Long  1/22/20  1/23/20  1/24/20  \\\n",
       "0            NaN    Afghanistan  33.0000  65.0000        0        0        0   \n",
       "1            NaN        Albania  41.1533  20.1683        0        0        0   \n",
       "2            NaN        Algeria  28.0339   1.6596        0        0        0   \n",
       "3            NaN        Andorra  42.5063   1.5218        0        0        0   \n",
       "4            NaN         Angola -11.2027  17.8739        0        0        0   \n",
       "\n",
       "   1/25/20  1/26/20  1/27/20  ...  4/24/20  4/25/20  4/26/20  4/27/20  \\\n",
       "0        0        0        0  ...     1351     1463     1531     1703   \n",
       "1        0        0        0  ...      678      712      726      736   \n",
       "2        0        0        0  ...     3127     3256     3382     3517   \n",
       "3        0        0        0  ...      731      738      738      743   \n",
       "4        0        0        0  ...       25       25       26       27   \n",
       "\n",
       "   4/28/20  4/29/20  4/30/20  5/1/20  5/2/20  5/3/20  \n",
       "0     1828     1939     2171    2335    2469    2704  \n",
       "1      750      766      773     782     789     795  \n",
       "2     3649     3848     4006    4154    4295    4474  \n",
       "3      743      743      745     745     747     748  \n",
       "4       27       27       27      30      35      35  \n",
       "\n",
       "[5 rows x 107 columns]"
      ]
     },
     "execution_count": 3,
     "metadata": {},
     "output_type": "execute_result"
    }
   ],
   "source": [
    "df=pd.read_csv(\"covid_confirmed.csv\")\n",
    "df.head()"
   ]
  },
  {
   "cell_type": "code",
   "execution_count": 4,
   "metadata": {
    "colab": {},
    "colab_type": "code",
    "id": "Q4DPcmtKbw_-"
   },
   "outputs": [],
   "source": [
    "cols=df.keys()\n",
    "confirmed=df.loc[:, cols[4]:cols[-1]]\n",
    "dates=confirmed.keys()\n",
    "countries=set(list(df[\"Country/Region\"]))\n",
    "days_since=list((range(len(dates))))"
   ]
  },
  {
   "cell_type": "code",
   "execution_count": 5,
   "metadata": {
    "colab": {},
    "colab_type": "code",
    "id": "dZUhdeulbxAL"
   },
   "outputs": [],
   "source": [
    "world_confirmed=[]\n",
    "china_confirmed=[]\n",
    "italy_confirmed=[]\n",
    "usa_confirmed=[]\n",
    "world_rate=[]\n",
    "china_rate=[]\n",
    "italy_rate=[]\n",
    "usa_rate=[]\n",
    "for i in dates:\n",
    "    confirmed_sum = confirmed[i].sum()\n",
    "    world_confirmed.append(confirmed_sum)\n",
    "    china_confirmed.append(df[df['Country/Region']=='China'][i].sum())\n",
    "    italy_confirmed.append(df[df['Country/Region']=='Italy'][i].sum())\n",
    "    usa_confirmed.append(df[df['Country/Region']=='US'][i].sum())\n",
    "for i in days_since:\n",
    "    if i == 0:\n",
    "        world_rate.append(0)\n",
    "        china_rate.append(0)\n",
    "        italy_rate.append(0)\n",
    "        usa_rate.append(0)\n",
    "    else:\n",
    "        world_rate.append((world_confirmed[i]-world_confirmed[i-1])*100/world_confirmed[i-1])\n",
    "        china_rate.append((china_confirmed[i]-china_confirmed[i-1])*100/china_confirmed[i-1])\n",
    "        italy_rate.append((italy_confirmed[i]-italy_confirmed[i-1])*100/italy_confirmed[i-1])\n",
    "        usa_rate.append((usa_confirmed[i]-usa_confirmed[i-1])*100/usa_confirmed[i-1])\n",
    "        \n",
    "        \n",
    "    "
   ]
  },
  {
   "cell_type": "markdown",
   "metadata": {
    "colab_type": "text",
    "id": "FvriCHAKDNqs"
   },
   "source": [
    "## Visualize data"
   ]
  },
  {
   "cell_type": "code",
   "execution_count": 6,
   "metadata": {
    "colab": {},
    "colab_type": "code",
    "id": "qHCJzEL1bxAm",
    "outputId": "511f67ec-faca-4941-bd11-6132a8d03db3"
   },
   "outputs": [
    {
     "data": {
      "image/png": "[encoded data removed]",
      "text/plain": [
       "<Figure size 720x432 with 1 Axes>"
      ]
     },
     "metadata": {
      "needs_background": "light"
     },
     "output_type": "display_data"
    }
   ],
   "source": [
    "plt.figure(figsize=(10, 6))\n",
    "plt.plot(days_since, world_confirmed)\n",
    "plt.plot(days_since, china_confirmed)\n",
    "plt.plot(days_since, italy_confirmed)\n",
    "plt.plot(days_since, usa_confirmed)\n",
    "plt.legend(['World', 'China', 'Italy', 'United States'], prop={'size': 12})\n",
    "plt.title('Coronavirus Cases Over Time', size=20)\n",
    "plt.xlabel('Days Since 22/01/2020', size=20)\n",
    "plt.ylabel('Number of Cases', size=20)\n",
    "plt.xticks(size=10)\n",
    "plt.yticks(size=10)\n",
    "plt.show()"
   ]
  },
  {
   "cell_type": "code",
   "execution_count": 7,
   "metadata": {
    "colab": {},
    "colab_type": "code",
    "id": "kNdhZbooDNrB",
    "outputId": "165ee87c-58db-45b7-86d4-6637841505bf"
   },
   "outputs": [
    {
     "data": {
      "image/png": "[encoded data removed]",
      "text/plain": [
       "<Figure size 720x432 with 1 Axes>"
      ]
     },
     "metadata": {
      "needs_background": "light"
     },
     "output_type": "display_data"
    }
   ],
   "source": [
    "plt.figure(figsize=(10, 6))\n",
    "plt.plot(days_since, world_rate)\n",
    "plt.plot(days_since, china_rate)\n",
    "plt.plot(days_since, italy_rate)\n",
    "plt.plot(days_since, usa_rate)\n",
    "plt.legend(['World', 'China', 'Italy', 'United States'], prop={'size': 12})\n",
    "plt.title('Coronavirus Growith Rate Over Time', size=20)\n",
    "plt.xlabel('Days Since 22/01/2020', size=20)\n",
    "plt.ylabel('Growth Rate (%)', size=20)\n",
    "plt.xticks(size=10)\n",
    "plt.yticks(size=10)\n",
    "plt.show()"
   ]
  },
  {
   "cell_type": "markdown",
   "metadata": {
    "colab_type": "text",
    "id": "m43vb9LjbxA0"
   },
   "source": [
    "## Build model and split data"
   ]
  },
  {
   "cell_type": "code",
   "execution_count": 8,
   "metadata": {
    "colab": {},
    "colab_type": "code",
    "id": "3urXWqfrbxA1",
    "outputId": "a4d6b378-1bdf-4873-e634-0bccf7463e22"
   },
   "outputs": [
    {
     "data": {
      "text/html": [
       "<div>\n",
       "<style scoped>\n",
       "    .dataframe tbody tr th:only-of-type {\n",
       "        vertical-align: middle;\n",
       "    }\n",
       "\n",
       "    .dataframe tbody tr th {\n",
       "        vertical-align: top;\n",
       "    }\n",
       "\n",
       "    .dataframe thead th {\n",
       "        text-align: right;\n",
       "    }\n",
       "</style>\n",
       "<table border=\"1\" class=\"dataframe\">\n",
       "  <thead>\n",
       "    <tr style=\"text-align: right;\">\n",
       "      <th></th>\n",
       "      <th>ObservationDate</th>\n",
       "      <th>Province/State</th>\n",
       "      <th>Country/Region</th>\n",
       "      <th>Last Update</th>\n",
       "      <th>Confirmed</th>\n",
       "      <th>Deaths</th>\n",
       "      <th>Recovered</th>\n",
       "      <th>Country</th>\n",
       "    </tr>\n",
       "  </thead>\n",
       "  <tbody>\n",
       "    <tr>\n",
       "      <th>0</th>\n",
       "      <td>2020-01-22</td>\n",
       "      <td>Anhui</td>\n",
       "      <td>Mainland China</td>\n",
       "      <td>1/22/2020 17:00</td>\n",
       "      <td>1.0</td>\n",
       "      <td>0.0</td>\n",
       "      <td>0.0</td>\n",
       "      <td>Mainland China</td>\n",
       "    </tr>\n",
       "    <tr>\n",
       "      <th>1</th>\n",
       "      <td>2020-01-22</td>\n",
       "      <td>Beijing</td>\n",
       "      <td>Mainland China</td>\n",
       "      <td>1/22/2020 17:00</td>\n",
       "      <td>14.0</td>\n",
       "      <td>0.0</td>\n",
       "      <td>0.0</td>\n",
       "      <td>Mainland China</td>\n",
       "    </tr>\n",
       "    <tr>\n",
       "      <th>2</th>\n",
       "      <td>2020-01-22</td>\n",
       "      <td>Chongqing</td>\n",
       "      <td>Mainland China</td>\n",
       "      <td>1/22/2020 17:00</td>\n",
       "      <td>6.0</td>\n",
       "      <td>0.0</td>\n",
       "      <td>0.0</td>\n",
       "      <td>Mainland China</td>\n",
       "    </tr>\n",
       "    <tr>\n",
       "      <th>3</th>\n",
       "      <td>2020-01-22</td>\n",
       "      <td>Fujian</td>\n",
       "      <td>Mainland China</td>\n",
       "      <td>1/22/2020 17:00</td>\n",
       "      <td>1.0</td>\n",
       "      <td>0.0</td>\n",
       "      <td>0.0</td>\n",
       "      <td>Mainland China</td>\n",
       "    </tr>\n",
       "    <tr>\n",
       "      <th>4</th>\n",
       "      <td>2020-01-22</td>\n",
       "      <td>Gansu</td>\n",
       "      <td>Mainland China</td>\n",
       "      <td>1/22/2020 17:00</td>\n",
       "      <td>0.0</td>\n",
       "      <td>0.0</td>\n",
       "      <td>0.0</td>\n",
       "      <td>Mainland China</td>\n",
       "    </tr>\n",
       "  </tbody>\n",
       "</table>\n",
       "</div>"
      ],
      "text/plain": [
       "  ObservationDate Province/State  Country/Region      Last Update  Confirmed  \\\n",
       "0      2020-01-22          Anhui  Mainland China  1/22/2020 17:00        1.0   \n",
       "1      2020-01-22        Beijing  Mainland China  1/22/2020 17:00       14.0   \n",
       "2      2020-01-22      Chongqing  Mainland China  1/22/2020 17:00        6.0   \n",
       "3      2020-01-22         Fujian  Mainland China  1/22/2020 17:00        1.0   \n",
       "4      2020-01-22          Gansu  Mainland China  1/22/2020 17:00        0.0   \n",
       "\n",
       "   Deaths  Recovered         Country  \n",
       "0     0.0        0.0  Mainland China  \n",
       "1     0.0        0.0  Mainland China  \n",
       "2     0.0        0.0  Mainland China  \n",
       "3     0.0        0.0  Mainland China  \n",
       "4     0.0        0.0  Mainland China  "
      ]
     },
     "execution_count": 8,
     "metadata": {},
     "output_type": "execute_result"
    }
   ],
   "source": [
    "dfC19=pd.read_csv(\"covid_19_data.csv\")\n",
    "dfC19.drop([\"SNo\"],1,inplace=True)\n",
    "dfC19[\"ObservationDate\"]=pd.to_datetime(dfC19[\"ObservationDate\"])\n",
    "dfC19['Country']=dfC19['Country/Region']\n",
    "dfC19.head()"
   ]
  },
  {
   "cell_type": "code",
   "execution_count": 9,
   "metadata": {
    "colab": {},
    "colab_type": "code",
    "id": "UXdfRymzbxBE",
    "outputId": "7ee68bb2-f149-4e36-82aa-b769b024705b"
   },
   "outputs": [
    {
     "data": {
      "text/html": [
       "<div>\n",
       "<style scoped>\n",
       "    .dataframe tbody tr th:only-of-type {\n",
       "        vertical-align: middle;\n",
       "    }\n",
       "\n",
       "    .dataframe tbody tr th {\n",
       "        vertical-align: top;\n",
       "    }\n",
       "\n",
       "    .dataframe thead th {\n",
       "        text-align: right;\n",
       "    }\n",
       "</style>\n",
       "<table border=\"1\" class=\"dataframe\">\n",
       "  <thead>\n",
       "    <tr style=\"text-align: right;\">\n",
       "      <th></th>\n",
       "      <th>Confirmed</th>\n",
       "      <th>Recovered</th>\n",
       "      <th>Deaths</th>\n",
       "      <th>DaysAfter1-22</th>\n",
       "      <th>PandemicDeclared</th>\n",
       "    </tr>\n",
       "    <tr>\n",
       "      <th>ObservationDate</th>\n",
       "      <th></th>\n",
       "      <th></th>\n",
       "      <th></th>\n",
       "      <th></th>\n",
       "      <th></th>\n",
       "    </tr>\n",
       "  </thead>\n",
       "  <tbody>\n",
       "    <tr>\n",
       "      <th>2020-01-22</th>\n",
       "      <td>555.0</td>\n",
       "      <td>28.0</td>\n",
       "      <td>17.0</td>\n",
       "      <td>0</td>\n",
       "      <td>0</td>\n",
       "    </tr>\n",
       "    <tr>\n",
       "      <th>2020-01-23</th>\n",
       "      <td>653.0</td>\n",
       "      <td>30.0</td>\n",
       "      <td>18.0</td>\n",
       "      <td>1</td>\n",
       "      <td>0</td>\n",
       "    </tr>\n",
       "    <tr>\n",
       "      <th>2020-01-24</th>\n",
       "      <td>941.0</td>\n",
       "      <td>36.0</td>\n",
       "      <td>26.0</td>\n",
       "      <td>2</td>\n",
       "      <td>0</td>\n",
       "    </tr>\n",
       "    <tr>\n",
       "      <th>2020-01-25</th>\n",
       "      <td>1438.0</td>\n",
       "      <td>39.0</td>\n",
       "      <td>42.0</td>\n",
       "      <td>3</td>\n",
       "      <td>0</td>\n",
       "    </tr>\n",
       "    <tr>\n",
       "      <th>2020-01-26</th>\n",
       "      <td>2118.0</td>\n",
       "      <td>52.0</td>\n",
       "      <td>56.0</td>\n",
       "      <td>4</td>\n",
       "      <td>0</td>\n",
       "    </tr>\n",
       "    <tr>\n",
       "      <th>...</th>\n",
       "      <td>...</td>\n",
       "      <td>...</td>\n",
       "      <td>...</td>\n",
       "      <td>...</td>\n",
       "      <td>...</td>\n",
       "    </tr>\n",
       "    <tr>\n",
       "      <th>2020-04-27</th>\n",
       "      <td>3041764.0</td>\n",
       "      <td>893967.0</td>\n",
       "      <td>211167.0</td>\n",
       "      <td>96</td>\n",
       "      <td>1</td>\n",
       "    </tr>\n",
       "    <tr>\n",
       "      <th>2020-04-28</th>\n",
       "      <td>3116398.0</td>\n",
       "      <td>928658.0</td>\n",
       "      <td>217153.0</td>\n",
       "      <td>97</td>\n",
       "      <td>1</td>\n",
       "    </tr>\n",
       "    <tr>\n",
       "      <th>2020-04-29</th>\n",
       "      <td>3193886.0</td>\n",
       "      <td>972719.0</td>\n",
       "      <td>227638.0</td>\n",
       "      <td>98</td>\n",
       "      <td>1</td>\n",
       "    </tr>\n",
       "    <tr>\n",
       "      <th>2020-04-30</th>\n",
       "      <td>3256846.0</td>\n",
       "      <td>1014753.0</td>\n",
       "      <td>233388.0</td>\n",
       "      <td>99</td>\n",
       "      <td>1</td>\n",
       "    </tr>\n",
       "    <tr>\n",
       "      <th>2020-05-01</th>\n",
       "      <td>3343777.0</td>\n",
       "      <td>1053327.0</td>\n",
       "      <td>238650.0</td>\n",
       "      <td>100</td>\n",
       "      <td>1</td>\n",
       "    </tr>\n",
       "  </tbody>\n",
       "</table>\n",
       "<p>101 rows × 5 columns</p>\n",
       "</div>"
      ],
      "text/plain": [
       "                 Confirmed  Recovered    Deaths  DaysAfter1-22  \\\n",
       "ObservationDate                                                  \n",
       "2020-01-22           555.0       28.0      17.0              0   \n",
       "2020-01-23           653.0       30.0      18.0              1   \n",
       "2020-01-24           941.0       36.0      26.0              2   \n",
       "2020-01-25          1438.0       39.0      42.0              3   \n",
       "2020-01-26          2118.0       52.0      56.0              4   \n",
       "...                    ...        ...       ...            ...   \n",
       "2020-04-27       3041764.0   893967.0  211167.0             96   \n",
       "2020-04-28       3116398.0   928658.0  217153.0             97   \n",
       "2020-04-29       3193886.0   972719.0  227638.0             98   \n",
       "2020-04-30       3256846.0  1014753.0  233388.0             99   \n",
       "2020-05-01       3343777.0  1053327.0  238650.0            100   \n",
       "\n",
       "                 PandemicDeclared  \n",
       "ObservationDate                    \n",
       "2020-01-22                      0  \n",
       "2020-01-23                      0  \n",
       "2020-01-24                      0  \n",
       "2020-01-25                      0  \n",
       "2020-01-26                      0  \n",
       "...                           ...  \n",
       "2020-04-27                      1  \n",
       "2020-04-28                      1  \n",
       "2020-04-29                      1  \n",
       "2020-04-30                      1  \n",
       "2020-05-01                      1  \n",
       "\n",
       "[101 rows x 5 columns]"
      ]
     },
     "execution_count": 9,
     "metadata": {},
     "output_type": "execute_result"
    }
   ],
   "source": [
    "from datetime import timedelta\n",
    "daily_cases=dfC19.groupby([\"ObservationDate\"]).agg({\"Confirmed\":'sum',\"Recovered\":'sum',\"Deaths\":'sum'})\n",
    "daily_cases[\"DaysAfter1-22\"]=daily_cases.index-daily_cases.index.min()\n",
    "daily_cases['PandemicDeclared']=0   \n",
    "for i in range(len(daily_cases[\"DaysAfter1-22\"])):\n",
    "    if daily_cases[\"DaysAfter1-22\"][i] > timedelta(days=49):\n",
    "        daily_cases['PandemicDeclared'][i]=1  \n",
    "daily_cases[\"DaysAfter1-22\"]=daily_cases[\"DaysAfter1-22\"].dt.days\n",
    "daily_cases"
   ]
  },
  {
   "cell_type": "code",
   "execution_count": 10,
   "metadata": {
    "colab": {},
    "colab_type": "code",
    "id": "4q5Jvm2LbxBi",
    "outputId": "68e10ba7-0c1c-4dbe-80a7-c9ecbf8b92ff"
   },
   "outputs": [
    {
     "name": "stdout",
     "output_type": "stream",
     "text": [
      "Degree of Fit: 9 \t Amount of Data Trained: 87.0%\n",
      "342162.3455527014\n"
     ]
    }
   ],
   "source": [
    "from sklearn.model_selection import train_test_split\n",
    "tests=np.arange(0.10,0.35,0.01).tolist()\n",
    "model_test_world=[]\n",
    "model_degree_world=[]\n",
    "model_mse_world=[]\n",
    "y_world=daily_cases.loc[:,['Confirmed']]\n",
    "X_world=daily_cases.loc[:,['DaysAfter1-22','PandemicDeclared']]\n",
    "for i in range(10):\n",
    "    for j in tests:\n",
    "        X_train_world, X_test_world, y_train_world, y_test_world = train_test_split(X_world, y_world, test_size=j, random_state=42)\n",
    "        model_world=SVR(C=1,degree=i,kernel='poly',epsilon=0.01,gamma='scale')\n",
    "        model_world.fit(X_train_world,y_train_world)\n",
    "        prediction_valid_svm_world=model_world.predict(X_test_world)\n",
    "        model_degree_world.append(i)\n",
    "        model_test_world.append(j)\n",
    "        model_mse_world.append(np.sqrt(mean_squared_error(y_test_world,prediction_valid_svm_world)))\n",
    "k_world=model_mse_world.index(min(model_mse_world))\n",
    "print(\"Degree of Fit:\",model_degree_world[k_world],\"\\t Amount of Data Trained:\",str((1-model_test_world[k_world])*100)+\"%\")\n",
    "print(model_mse_world[k_world])"
   ]
  },
  {
   "cell_type": "markdown",
   "metadata": {
    "colab_type": "text",
    "id": "02v5271WDNrc"
   },
   "source": [
    "## Score SVM model and visualize predictions\n",
    "We chose to use an SVM model becasue it is a ML algorithm that fits the curve to the data and is able to ignore outliers"
   ]
  },
  {
   "cell_type": "markdown",
   "metadata": {
    "colab_type": "text",
    "id": "HTK4FplMDNrd"
   },
   "source": [
    "### Worldwide Cases"
   ]
  },
  {
   "cell_type": "code",
   "execution_count": 11,
   "metadata": {
    "colab": {},
    "colab_type": "code",
    "id": "cQMzGZK6bxBw",
    "outputId": "68790e8a-83bc-4475-adfb-8856943c6414"
   },
   "outputs": [
    {
     "name": "stdout",
     "output_type": "stream",
     "text": [
      "MSE: 342162.3455527014\n"
     ]
    },
    {
     "data": {
      "text/plain": [
       "<matplotlib.legend.Legend at 0x1a245de350>"
      ]
     },
     "execution_count": 11,
     "metadata": {},
     "output_type": "execute_result"
    },
    {
     "data": {
      "image/png": "[encoded data removed]",
      "text/plain": [
       "<Figure size 792x432 with 1 Axes>"
      ]
     },
     "metadata": {
      "needs_background": "light"
     },
     "output_type": "display_data"
    }
   ],
   "source": [
    "X_train_world, X_test_world, y_train_world, y_test_world = train_test_split(X_world, y_world, test_size=model_test_world[k_world], random_state=42)\n",
    "model_world=SVR(C=1,degree=model_degree_world[k_world],kernel='poly',epsilon=0.01,gamma='scale')\n",
    "model_world.fit(X_train_world,y_train_world)\n",
    "prediction_valid_svm_world=model_world.predict(X_test_world)\n",
    "print(\"MSE:\",np.sqrt(mean_squared_error(y_test_world,prediction_valid_svm_world)))\n",
    "prediction_svm_world=model_world.predict(X_world)\n",
    "plt.figure(figsize=(11,6))\n",
    "plt.plot(daily_cases[\"Confirmed\"],label=\"Training Data\",linewidth=2)\n",
    "plt.plot(daily_cases.index,prediction_svm_world, linestyle=':',label=\"SVR Best Fit Prediction\",color='red')\n",
    "plt.xlabel('Date')\n",
    "plt.ylabel('Number of Confirmed Cases')\n",
    "plt.title(\"SVM Regression Prediction of Worldwide Confirmed Cases Over Time\")\n",
    "plt.legend()"
   ]
  },
  {
   "cell_type": "markdown",
   "metadata": {
    "colab_type": "text",
    "id": "LS9IxngXbxB4"
   },
   "source": [
    "### US Cases"
   ]
  },
  {
   "cell_type": "code",
   "execution_count": 12,
   "metadata": {
    "colab": {},
    "colab_type": "code",
    "id": "44kYOH3cbxB4",
    "jupyter": {
     "source_hidden": true
    }
   },
   "outputs": [],
   "source": [
    "usa_filter=dfC19.Country.isin([\"US\"])\n",
    "df_usa=dfC19[usa_filter]\n",
    "daily_cases_usa=df_usa.groupby([\"ObservationDate\"]).agg({\"Confirmed\":'sum',\"Recovered\":'sum',\"Deaths\":'sum'})\n",
    "daily_cases_usa[\"DaysAfter1-22\"]=daily_cases_usa.index-daily_cases_usa.index.min()\n",
    "daily_cases_usa[\"DaysAfter1-22\"]=daily_cases_usa[\"DaysAfter1-22\"].dt.days"
   ]
  },
  {
   "cell_type": "code",
   "execution_count": 13,
   "metadata": {
    "colab": {},
    "colab_type": "code",
    "collapsed": true,
    "id": "gDBS2iKKbxFc",
    "jupyter": {
     "outputs_hidden": true,
     "source_hidden": true
    },
    "outputId": "187153ee-182f-4e06-e3df-10b58a003aff"
   },
   "outputs": [
    {
     "name": "stdout",
     "output_type": "stream",
     "text": [
      "Degree of Fit: 5 \t Amount of Data Trained: 70.0%\n",
      "74792.53905932269\n"
     ]
    }
   ],
   "source": [
    "tests=np.arange(0.10,0.35,0.01).tolist()\n",
    "model_test_usa=[]\n",
    "model_degree_usa=[]\n",
    "model_mse_usa=[]\n",
    "y_usa=daily_cases_usa.loc[:,['Confirmed']]\n",
    "X_usa=daily_cases_usa.loc[:,['DaysAfter1-22']]\n",
    "for i in range(10):\n",
    "    for j in tests:\n",
    "        X_train_usa, X_test_usa, y_train_usa, y_test_usa = train_test_split(X_usa, y_usa, test_size=j, random_state=1)\n",
    "        model_usa=SVR(C=1,degree=i,kernel='poly',epsilon=0.01,gamma='scale')\n",
    "        model_usa.fit(X_train_usa,y_train_usa)\n",
    "        prediction_valid_svm_usa=model_usa.predict(X_test_usa)\n",
    "        model_degree_usa.append(i)\n",
    "        model_test_usa.append(j)\n",
    "        model_mse_usa.append(np.sqrt(mean_squared_error(y_test_usa,prediction_valid_svm_usa)))\n",
    "k_usa=model_mse_usa.index(min(model_mse_usa))\n",
    "print(\"Degree of Fit:\",model_degree_usa[k_usa],\"\\t Amount of Data Trained:\",str((1-model_test_usa[k_usa])*100)+\"%\")\n",
    "print(model_mse_usa[k_usa])"
   ]
  },
  {
   "cell_type": "code",
   "execution_count": 14,
   "metadata": {
    "colab": {},
    "colab_type": "code",
    "id": "SAI1-t0sbxFe",
    "jupyter": {
     "source_hidden": true
    },
    "outputId": "cf1435be-5ff9-4e5a-e4a4-6c437ce1fc60"
   },
   "outputs": [
    {
     "name": "stdout",
     "output_type": "stream",
     "text": [
      "MSE: 74792.53905932269\n"
     ]
    },
    {
     "data": {
      "text/plain": [
       "<matplotlib.legend.Legend at 0x1a24432c10>"
      ]
     },
     "execution_count": 14,
     "metadata": {},
     "output_type": "execute_result"
    },
    {
     "data": {
      "image/png": "[encoded data removed]",
      "text/plain": [
       "<Figure size 792x432 with 1 Axes>"
      ]
     },
     "metadata": {
      "needs_background": "light"
     },
     "output_type": "display_data"
    }
   ],
   "source": [
    "X_train_usa, X_test_usa, y_train_usa, y_test_usa = train_test_split(X_usa, y_usa, test_size=model_test_usa[k_usa], random_state=1)\n",
    "model_usa=SVR(C=1,degree=model_degree_usa[k_usa],kernel='poly',epsilon=0.01,gamma='scale')\n",
    "model_usa.fit(X_train_usa,y_train_usa)\n",
    "prediction_valid_svm_usa=model_usa.predict(X_test_usa)\n",
    "print(\"MSE:\",np.sqrt(mean_squared_error(y_test_usa,prediction_valid_svm_usa)))\n",
    "prediction_svm_usa=model_usa.predict(X_usa)\n",
    "plt.figure(figsize=(11,6))\n",
    "plt.plot(daily_cases_usa[\"Confirmed\"],label=\"Training Data\",linewidth=2)\n",
    "plt.plot(daily_cases_usa.index,prediction_svm_usa, linestyle=':',label=\"SVR Best Fit Prediction\",color='red')\n",
    "plt.xlabel('Date')\n",
    "plt.ylabel('Number of Confirmed Cases')\n",
    "plt.title(\"SVM Regression Prediction of USA Confirmed Cases Over Time\")\n",
    "plt.legend()"
   ]
  },
  {
   "cell_type": "markdown",
   "metadata": {
    "colab_type": "text",
    "id": "EeRt9byQDNr2"
   },
   "source": [
    "### China Cases "
   ]
  },
  {
   "cell_type": "code",
   "execution_count": 15,
   "metadata": {
    "colab": {},
    "colab_type": "code",
    "id": "xrdjSGY2DNr2",
    "jupyter": {
     "source_hidden": true
    }
   },
   "outputs": [],
   "source": [
    "china_filter=dfC19.Country.isin([\"Mainland China\"])\n",
    "df_china=dfC19[china_filter]\n",
    "daily_cases_china=df_china.groupby([\"ObservationDate\"]).agg({\"Confirmed\":'sum',\"Recovered\":'sum',\"Deaths\":'sum'})\n",
    "daily_cases_china[\"DaysAfter1-22\"]=daily_cases_china.index-daily_cases_china.index.min()\n",
    "daily_cases_china[\"DaysAfter1-22\"]=daily_cases_china[\"DaysAfter1-22\"].dt.days"
   ]
  },
  {
   "cell_type": "code",
   "execution_count": 16,
   "metadata": {
    "colab": {},
    "colab_type": "code",
    "collapsed": true,
    "id": "H2IJmj4TDNr8",
    "jupyter": {
     "outputs_hidden": true,
     "source_hidden": true
    },
    "outputId": "a8662cd5-6575-4133-e961-e989e0db8eb7"
   },
   "outputs": [
    {
     "name": "stdout",
     "output_type": "stream",
     "text": [
      "Degree of Fit: 3 \t Amount of Data Trained: 74.00000000000001%\n",
      "7962.8387424052735\n"
     ]
    }
   ],
   "source": [
    "tests=np.arange(0.10,0.35,0.01).tolist()\n",
    "model_test_china=[]\n",
    "model_degree_china=[]\n",
    "model_mse_china=[]\n",
    "y_china=daily_cases_china.loc[:,['Confirmed']]\n",
    "X_china=daily_cases_china.loc[:,['DaysAfter1-22']]\n",
    "for i in range(10):\n",
    "    for j in tests:\n",
    "        X_train_china, X_test_china, y_train_china, y_test_china = train_test_split(X_china, y_china, test_size=j, random_state=1)\n",
    "        model_china=SVR(C=1,degree=i,kernel='poly',epsilon=0.01,gamma='scale')\n",
    "        model_china.fit(X_train_china,y_train_china)\n",
    "        prediction_valid_svm_china=model_china.predict(X_test_china)\n",
    "        model_degree_china.append(i)\n",
    "        model_test_china.append(j)\n",
    "        model_mse_china.append(np.sqrt(mean_squared_error(y_test_china,prediction_valid_svm_china)))\n",
    "k_china=model_mse_china.index(min(model_mse_china))\n",
    "print(\"Degree of Fit:\",model_degree_china[k_china],\"\\t Amount of Data Trained:\",str((1-model_test_china[k_china])*100)+\"%\")\n",
    "print(model_mse_china[k_china])"
   ]
  },
  {
   "cell_type": "code",
   "execution_count": 17,
   "metadata": {
    "colab": {},
    "colab_type": "code",
    "id": "Mvl__x7UDNsA",
    "jupyter": {
     "source_hidden": true
    },
    "outputId": "8493d341-1cb4-414f-c96d-f17f907c294d"
   },
   "outputs": [
    {
     "name": "stdout",
     "output_type": "stream",
     "text": [
      "MSE: 7962.8387424052735\n"
     ]
    },
    {
     "data": {
      "text/plain": [
       "<matplotlib.legend.Legend at 0x1a24409450>"
      ]
     },
     "execution_count": 17,
     "metadata": {},
     "output_type": "execute_result"
    },
    {
     "data": {
      "image/png": "[encoded data removed]",
      "text/plain": [
       "<Figure size 792x432 with 1 Axes>"
      ]
     },
     "metadata": {
      "needs_background": "light"
     },
     "output_type": "display_data"
    }
   ],
   "source": [
    "X_train_china, X_test_china, y_train_china, y_test_china = train_test_split(X_china, y_china, test_size=model_test_china[k_china], random_state=1)\n",
    "model_china=SVR(C=1,degree=model_degree_china[k_china],kernel='poly',epsilon=0.01,gamma='scale')\n",
    "model_china.fit(X_train_china,y_train_china)\n",
    "prediction_valid_svm_china=model_china.predict(X_test_china)\n",
    "print(\"MSE:\",np.sqrt(mean_squared_error(y_test_china,prediction_valid_svm_china)))\n",
    "prediction_svm_china=model_china.predict(X_china)\n",
    "plt.figure(figsize=(11,6))\n",
    "plt.plot(daily_cases_china[\"Confirmed\"],label=\"Training Data\",linewidth=2)\n",
    "plt.plot(daily_cases_china.index,prediction_svm_china, linestyle=':',label=\"SVR Best Fit Prediction\",color='red')\n",
    "plt.xlabel('Date')\n",
    "plt.ylabel('Number of Confirmed Cases')\n",
    "plt.title(\"SVM Regression Prediction of China Confirmed Cases Over Time\")\n",
    "plt.legend()"
   ]
  },
  {
   "cell_type": "markdown",
   "metadata": {
    "colab_type": "text",
    "id": "OCcVR_KfDNsH"
   },
   "source": [
    "## Score Logistic model and visualize predictions\n",
    "We ran an logistic regression model to fit a curve to the eventual expected shape of the curve, see China's data for example"
   ]
  },
  {
   "cell_type": "code",
   "execution_count": 18,
   "metadata": {
    "colab": {},
    "colab_type": "code",
    "id": "MmOF_e6mbxFn",
    "outputId": "d6606a9f-f557-43df-8c42-52d668401d1e"
   },
   "outputs": [
    {
     "data": {
      "text/html": [
       "<div>\n",
       "<style scoped>\n",
       "    .dataframe tbody tr th:only-of-type {\n",
       "        vertical-align: middle;\n",
       "    }\n",
       "\n",
       "    .dataframe tbody tr th {\n",
       "        vertical-align: top;\n",
       "    }\n",
       "\n",
       "    .dataframe thead th {\n",
       "        text-align: right;\n",
       "    }\n",
       "</style>\n",
       "<table border=\"1\" class=\"dataframe\">\n",
       "  <thead>\n",
       "    <tr style=\"text-align: right;\">\n",
       "      <th>Country/Region</th>\n",
       "      <th>Afghanistan</th>\n",
       "      <th>Albania</th>\n",
       "      <th>Algeria</th>\n",
       "      <th>Andorra</th>\n",
       "      <th>Angola</th>\n",
       "      <th>Antigua and Barbuda</th>\n",
       "      <th>Argentina</th>\n",
       "      <th>Armenia</th>\n",
       "      <th>Australia</th>\n",
       "      <th>Austria</th>\n",
       "      <th>...</th>\n",
       "      <th>Uzbekistan</th>\n",
       "      <th>Venezuela</th>\n",
       "      <th>Vietnam</th>\n",
       "      <th>West Bank and Gaza</th>\n",
       "      <th>Western Sahara</th>\n",
       "      <th>Yemen</th>\n",
       "      <th>Zambia</th>\n",
       "      <th>Zimbabwe</th>\n",
       "      <th>World</th>\n",
       "      <th>Date</th>\n",
       "    </tr>\n",
       "  </thead>\n",
       "  <tbody>\n",
       "    <tr>\n",
       "      <th>0</th>\n",
       "      <td>0</td>\n",
       "      <td>0</td>\n",
       "      <td>0</td>\n",
       "      <td>0</td>\n",
       "      <td>0</td>\n",
       "      <td>0</td>\n",
       "      <td>0</td>\n",
       "      <td>0</td>\n",
       "      <td>0</td>\n",
       "      <td>0</td>\n",
       "      <td>...</td>\n",
       "      <td>0</td>\n",
       "      <td>0</td>\n",
       "      <td>0</td>\n",
       "      <td>0</td>\n",
       "      <td>0</td>\n",
       "      <td>0</td>\n",
       "      <td>0</td>\n",
       "      <td>0</td>\n",
       "      <td>555</td>\n",
       "      <td>2020-01-22</td>\n",
       "    </tr>\n",
       "    <tr>\n",
       "      <th>1</th>\n",
       "      <td>0</td>\n",
       "      <td>0</td>\n",
       "      <td>0</td>\n",
       "      <td>0</td>\n",
       "      <td>0</td>\n",
       "      <td>0</td>\n",
       "      <td>0</td>\n",
       "      <td>0</td>\n",
       "      <td>0</td>\n",
       "      <td>0</td>\n",
       "      <td>...</td>\n",
       "      <td>0</td>\n",
       "      <td>0</td>\n",
       "      <td>2</td>\n",
       "      <td>0</td>\n",
       "      <td>0</td>\n",
       "      <td>0</td>\n",
       "      <td>0</td>\n",
       "      <td>0</td>\n",
       "      <td>654</td>\n",
       "      <td>2020-01-23</td>\n",
       "    </tr>\n",
       "    <tr>\n",
       "      <th>2</th>\n",
       "      <td>0</td>\n",
       "      <td>0</td>\n",
       "      <td>0</td>\n",
       "      <td>0</td>\n",
       "      <td>0</td>\n",
       "      <td>0</td>\n",
       "      <td>0</td>\n",
       "      <td>0</td>\n",
       "      <td>0</td>\n",
       "      <td>0</td>\n",
       "      <td>...</td>\n",
       "      <td>0</td>\n",
       "      <td>0</td>\n",
       "      <td>2</td>\n",
       "      <td>0</td>\n",
       "      <td>0</td>\n",
       "      <td>0</td>\n",
       "      <td>0</td>\n",
       "      <td>0</td>\n",
       "      <td>941</td>\n",
       "      <td>2020-01-24</td>\n",
       "    </tr>\n",
       "    <tr>\n",
       "      <th>3</th>\n",
       "      <td>0</td>\n",
       "      <td>0</td>\n",
       "      <td>0</td>\n",
       "      <td>0</td>\n",
       "      <td>0</td>\n",
       "      <td>0</td>\n",
       "      <td>0</td>\n",
       "      <td>0</td>\n",
       "      <td>0</td>\n",
       "      <td>0</td>\n",
       "      <td>...</td>\n",
       "      <td>0</td>\n",
       "      <td>0</td>\n",
       "      <td>2</td>\n",
       "      <td>0</td>\n",
       "      <td>0</td>\n",
       "      <td>0</td>\n",
       "      <td>0</td>\n",
       "      <td>0</td>\n",
       "      <td>1434</td>\n",
       "      <td>2020-01-25</td>\n",
       "    </tr>\n",
       "    <tr>\n",
       "      <th>4</th>\n",
       "      <td>0</td>\n",
       "      <td>0</td>\n",
       "      <td>0</td>\n",
       "      <td>0</td>\n",
       "      <td>0</td>\n",
       "      <td>0</td>\n",
       "      <td>0</td>\n",
       "      <td>0</td>\n",
       "      <td>4</td>\n",
       "      <td>0</td>\n",
       "      <td>...</td>\n",
       "      <td>0</td>\n",
       "      <td>0</td>\n",
       "      <td>2</td>\n",
       "      <td>0</td>\n",
       "      <td>0</td>\n",
       "      <td>0</td>\n",
       "      <td>0</td>\n",
       "      <td>0</td>\n",
       "      <td>2118</td>\n",
       "      <td>2020-01-26</td>\n",
       "    </tr>\n",
       "  </tbody>\n",
       "</table>\n",
       "<p>5 rows × 189 columns</p>\n",
       "</div>"
      ],
      "text/plain": [
       "Country/Region  Afghanistan  Albania  Algeria  Andorra  Angola  \\\n",
       "0                         0        0        0        0       0   \n",
       "1                         0        0        0        0       0   \n",
       "2                         0        0        0        0       0   \n",
       "3                         0        0        0        0       0   \n",
       "4                         0        0        0        0       0   \n",
       "\n",
       "Country/Region  Antigua and Barbuda  Argentina  Armenia  Australia  Austria  \\\n",
       "0                                 0          0        0          0        0   \n",
       "1                                 0          0        0          0        0   \n",
       "2                                 0          0        0          0        0   \n",
       "3                                 0          0        0          0        0   \n",
       "4                                 0          0        0          4        0   \n",
       "\n",
       "Country/Region  ...  Uzbekistan  Venezuela  Vietnam  West Bank and Gaza  \\\n",
       "0               ...           0          0        0                   0   \n",
       "1               ...           0          0        2                   0   \n",
       "2               ...           0          0        2                   0   \n",
       "3               ...           0          0        2                   0   \n",
       "4               ...           0          0        2                   0   \n",
       "\n",
       "Country/Region  Western Sahara  Yemen  Zambia  Zimbabwe  World       Date  \n",
       "0                            0      0       0         0    555 2020-01-22  \n",
       "1                            0      0       0         0    654 2020-01-23  \n",
       "2                            0      0       0         0    941 2020-01-24  \n",
       "3                            0      0       0         0   1434 2020-01-25  \n",
       "4                            0      0       0         0   2118 2020-01-26  \n",
       "\n",
       "[5 rows x 189 columns]"
      ]
     },
     "execution_count": 18,
     "metadata": {},
     "output_type": "execute_result"
    }
   ],
   "source": [
    "dfCovLog = df.drop(columns=['Province/State','Long', 'Lat']).groupby('Country/Region').sum().transpose()\n",
    "dfCovLog.loc[:,'World'] = dfCovLog.sum(axis=1)\n",
    "dfCovLog.loc[:,'Date'] = pd.to_datetime(dfCovLog.index)\n",
    "dfCovLog = dfCovLog.reset_index(drop=True)\n",
    "dfCovLog.head()"
   ]
  },
  {
   "cell_type": "code",
   "execution_count": 19,
   "metadata": {
    "colab": {},
    "colab_type": "code",
    "id": "SNiVjKJvDNsN"
   },
   "outputs": [],
   "source": [
    "#Defining Logistic Growth Function\n",
    "def logisticf(t,a,b,c):\n",
    "    logistic_growth=c/(1+a*np.exp(-b*t))\n",
    "    return logistic_growth"
   ]
  },
  {
   "cell_type": "markdown",
   "metadata": {
    "colab_type": "text",
    "id": "_7_Ozt21DNsQ"
   },
   "source": [
    "# Run Model & Gather Predictions"
   ]
  },
  {
   "cell_type": "code",
   "execution_count": 20,
   "metadata": {
    "colab": {},
    "colab_type": "code",
    "id": "T5f5vbCEDNsS"
   },
   "outputs": [],
   "source": [
    "def split_data_log(data, country, test_size=0.25):\n",
    "    train = data.loc[data.index < len(data)*(1-test_size), country]\n",
    "    test = data.loc[data.index >= len(data)*(1-test_size), country]\n",
    "    return train.index, test.index, train, test"
   ]
  },
  {
   "cell_type": "code",
   "execution_count": 21,
   "metadata": {
    "colab": {},
    "colab_type": "code",
    "id": "sc8lV9BcDNsV"
   },
   "outputs": [],
   "source": [
    "country_list = ['US','Italy','World','China']\n",
    "x = dfCovLog.index\n",
    "\n",
    "import scipy.optimize as optim\n",
    "from sklearn.metrics import mean_absolute_error\n",
    "\n",
    "results = dict()\n",
    "\n",
    "# Loop over countries...\n",
    "for country in country_list:\n",
    "    try:\n",
    "        y = dfCovLog[country]\n",
    "        # Split and process data for each country\n",
    "        x_train, x_test, y_train, y_test = train_test_split(x,y, test_size=0.25)\n",
    "        #x_train, x_test, y_train, y_test = split_data_log(dfCovLog, country, test_size=0.20)\n",
    "        # Set up parameters for building model\n",
    "        p0=np.random.exponential(size=3)\n",
    "        bounds =(0,[10000., 3000., 100000000.])\n",
    "        (a,b,c), cov = optim.curve_fit(logisticf, x_train,y_train, bounds=bounds,p0=p0)        \n",
    "        # Feed parameters to fit equation\n",
    "        def logigrowth(t):\n",
    "            return  c/(1+a*np.exp(-b*t))\n",
    "        # Predict\n",
    "        y_test_pred = logigrowth(x_test)\n",
    "        # Evaluate based on mae\n",
    "        mae = mean_absolute_error(y_test, y_test_pred)\n",
    "        \n",
    "        #print(country, 'mae:',round(mae), 'total cases:', y_test.iloc[-1], round(mae/y_test.iloc[-1]*100),'%')\n",
    "        x_plot = range(len(x) + 20)\n",
    "        y_test_pred_plot = logigrowth(x_plot)\n",
    "        plot_stuff = x_plot, y_test_pred_plot\n",
    "        # Save mae, total cases into dict\n",
    "        results[country] = (mae, dfCovLog[country].iloc[-1], plot_stuff)\n",
    "    except RuntimeError as e:\n",
    "        print(f\"{country} - {e}\")\n",
    "    except ValueError as e:\n",
    "        print(f\"{country} - {e}\")  "
   ]
  },
  {
   "cell_type": "markdown",
   "metadata": {
    "colab_type": "text",
    "id": "0t3xVDzoDNsZ"
   },
   "source": [
    "# Predict Data (Scoring)"
   ]
  },
  {
   "cell_type": "code",
   "execution_count": 22,
   "metadata": {
    "colab": {},
    "colab_type": "code",
    "id": "uHS7UMu7DNsa",
    "outputId": "d2d24981-a697-4899-a015-7d6bfcbff97f"
   },
   "outputs": [
    {
     "name": "stdout",
     "output_type": "stream",
     "text": [
      "US: mae = 16183.0, total cases = 1158040\n",
      "US: error = 1.0 %\n",
      "Italy: mae = 2830.0, total cases = 210717\n",
      "Italy: error = 1.0 %\n",
      "World: mae = 33771.0, total cases = 3506729\n",
      "World: error = 1.0 %\n",
      "China: mae = 1477.0, total cases = 83964\n",
      "China: error = 2.0 %\n"
     ]
    }
   ],
   "source": [
    "for country in results.keys():\n",
    "    print(f\"{country}: mae = {round(results[country][0])}, total cases = {results[country][1]}\")\n",
    "    print(f\"{country}: error = {round(results[country][0]/results[country][1]*100)} %\")"
   ]
  },
  {
   "cell_type": "code",
   "execution_count": 23,
   "metadata": {
    "colab": {},
    "colab_type": "code",
    "id": "LFyV0K3nDNsd"
   },
   "outputs": [],
   "source": [
    "def view_results_log(country):\n",
    "    x_test, y_test_pred = results[country][2]\n",
    "    plt.plot(x_test,y_test_pred ,label='predictions')\n",
    "    plt.plot(dfCovLog.reset_index().index, dfCovLog[country], label='acutal')\n",
    "    plt.legend()\n",
    "    plt.title(country)\n",
    "    plt.xlabel('Days since 01-22-2020')\n",
    "    plt.ylabel('Confirmed Cases')"
   ]
  },
  {
   "cell_type": "code",
   "execution_count": 24,
   "metadata": {
    "colab": {},
    "colab_type": "code",
    "id": "tWerpvpJDNsf",
    "outputId": "796d5b12-4601-4f87-cee8-e01ce2d7be98"
   },
   "outputs": [
    {
     "data": {
      "image/png": "[encoded data removed]",
      "text/plain": [
       "<Figure size 432x288 with 1 Axes>"
      ]
     },
     "metadata": {
      "needs_background": "light"
     },
     "output_type": "display_data"
    }
   ],
   "source": [
    "view_results_log('World')"
   ]
  },
  {
   "cell_type": "code",
   "execution_count": 25,
   "metadata": {
    "colab": {},
    "colab_type": "code",
    "id": "CxvYAJx1DNsk",
    "outputId": "2bbc2ad2-9cc8-42b1-9e6f-bd98b64911ab"
   },
   "outputs": [
    {
     "data": {
      "image/png": "[encoded data removed]",
      "text/plain": [
       "<Figure size 432x288 with 1 Axes>"
      ]
     },
     "metadata": {
      "needs_background": "light"
     },
     "output_type": "display_data"
    }
   ],
   "source": [
    "view_results_log('US')"
   ]
  },
  {
   "cell_type": "code",
   "execution_count": 26,
   "metadata": {
    "colab": {},
    "colab_type": "code",
    "id": "2Y4MqSyjDNsp",
    "outputId": "9a3db56b-a4eb-4b7e-cbe6-e8c90d485a89"
   },
   "outputs": [
    {
     "data": {
      "image/png": "[encoded data removed]",
      "text/plain": [
       "<Figure size 432x288 with 1 Axes>"
      ]
     },
     "metadata": {
      "needs_background": "light"
     },
     "output_type": "display_data"
    }
   ],
   "source": [
    "view_results_log('Italy')"
   ]
  },
  {
   "cell_type": "code",
   "execution_count": 27,
   "metadata": {
    "colab": {},
    "colab_type": "code",
    "id": "o_k6lWMADNsr",
    "outputId": "ae212552-02a7-49b9-fcf8-eade7025deae"
   },
   "outputs": [
    {
     "data": {
      "image/png": "[encoded data removed]",
      "text/plain": [
       "<Figure size 432x288 with 1 Axes>"
      ]
     },
     "metadata": {
      "needs_background": "light"
     },
     "output_type": "display_data"
    }
   ],
   "source": [
    "view_results_log('China')"
   ]
  },
  {
   "cell_type": "code",
   "execution_count": null,
   "metadata": {
    "colab": {},
    "colab_type": "code",
    "id": "Y5xbZfpkDNsu"
   },
   "outputs": [],
   "source": []
  },
  {
   "cell_type": "code",
   "execution_count": null,
   "metadata": {
    "colab": {},
    "colab_type": "code",
    "id": "8ywmrB2mI8eD"
   },
   "outputs": [],
   "source": []
  }
 ],
 "metadata": {
  "colab": {
   "name": "mhd_Grant_v3.ipynb",
   "provenance": [],
   "toc_visible": true
  },
  "kernelspec": {
   "display_name": "Python 3",
   "language": "python",
   "name": "python3"
  },
  "language_info": {
   "codemirror_mode": {
    "name": "ipython",
    "version": 3
   },
   "file_extension": ".py",
   "mimetype": "text/x-python",
   "name": "python",
   "nbconvert_exporter": "python",
   "pygments_lexer": "ipython3",
   "version": "3.7.4"
  }
 },
 "nbformat": 4,
 "nbformat_minor": 4
}
